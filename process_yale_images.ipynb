{
  "nbformat": 4,
  "nbformat_minor": 0,
  "metadata": {
    "colab": {
      "provenance": []
    },
    "kernelspec": {
      "name": "python3",
      "display_name": "Python 3"
    }
  },
  "cells": [
    {
      "cell_type": "markdown",
      "metadata": {
        "id": "FAVP8Znm-5Dt"
      },
      "source": [
        "\n",
        "1.   To connect this notebook to Google Drive, run the code below.\n",
        "2.   A link will appear\n",
        "3.   Click the link and sign in to your Google account\n",
        "4.   You will obtain an access code which needs to be copied and pasted into the input field below\n",
        "5.   Press Enter"
      ]
    },
    {
      "cell_type": "code",
      "metadata": {
        "id": "REBbH4Yk_A3n"
      },
      "source": [
        "from google.colab import drive # loads a library to mount your google drive\n",
        "drive.mount('/content/drive') "
      ],
      "execution_count": null,
      "outputs": []
    },
    {
      "cell_type": "code",
      "metadata": {
        "id": "Klqqlqlk_xlT"
      },
      "source": [
        "!ls \"/content/drive/My Drive/\" # shows all files in your google drive root, including the project data file Tr0\n",
        "path = \"/content/drive/My Drive/\" # sets the path to the root with the file Tr0"
      ],
      "execution_count": null,
      "outputs": []
    },
    {
      "cell_type": "markdown",
      "metadata": {
        "id": "EyuvO71yAecz"
      },
      "source": [
        "Unzip the images:"
      ]
    },
    {
      "cell_type": "code",
      "metadata": {
        "id": "HghjlZYOBWWu",
        "outputId": "6098dd0f-eff5-4498-f92b-df58aef15812",
        "colab": {
          "base_uri": "https://localhost:8080/",
          "height": 34
        }
      },
      "source": [
        "import os     # loads a library to work with data files\n",
        "os.chdir(path) \n",
        "dnam = 'Tr0'\n",
        "!unzip -q {dnam} # unzups the project file Tr0"
      ],
      "execution_count": null,
      "outputs": [
        {
          "output_type": "stream",
          "text": [
            "replace Tr0/yaleB02_P00A+000E+00.jpg? [y]es, [n]o, [A]ll, [N]one, [r]ename: A\n"
          ],
          "name": "stdout"
        }
      ]
    },
    {
      "cell_type": "markdown",
      "metadata": {
        "id": "n1D37E98FShO"
      },
      "source": [
        "Make a list of all images in the directory. "
      ]
    },
    {
      "cell_type": "code",
      "metadata": {
        "id": "8bwQb2k8FV68",
        "outputId": "a561f823-47c4-4c51-cbcc-a5f0ab46e315",
        "colab": {
          "base_uri": "https://localhost:8080/",
          "height": 34
        }
      },
      "source": [
        "from os import listdir # loads a library to work with directories \n",
        "fls = listdir(path + dnam) # creates a list of all image files\n",
        "n = len(fls) # the number of the image files  \n",
        "print('Number of images %i' % n)"
      ],
      "execution_count": null,
      "outputs": [
        {
          "output_type": "stream",
          "text": [
            "Number of images 1500\n"
          ],
          "name": "stdout"
        }
      ]
    },
    {
      "cell_type": "markdown",
      "metadata": {
        "id": "EFCynGy8F_Zb"
      },
      "source": [
        " Load and display 1st image using Matplotlib"
      ]
    },
    {
      "cell_type": "code",
      "metadata": {
        "id": "HB8yeiSPGHXS",
        "outputId": "f5f1ab02-92b9-444f-93d1-f25aa6757c0f",
        "colab": {
          "base_uri": "https://localhost:8080/",
          "height": 285
        }
      },
      "source": [
        "from matplotlib import image # loads a library to work with images\n",
        "from matplotlib import pyplot # loads a library to plot images\n",
        "im1 = image.imread(path + dnam + '/' + fls[0]) # chooses 1st image from the image list\n",
        "print(im1.shape) # prints the size in pixels of the chosen image \n",
        "pyplot.imshow(im1, cmap=pyplot.cm.gray) # displays the image\n",
        "pyplot.show()"
      ],
      "execution_count": null,
      "outputs": [
        {
          "output_type": "stream",
          "text": [
            "(77, 68)\n"
          ],
          "name": "stdout"
        },
        {
          "output_type": "display_data",
          "data": {
            "image/png": "[encoded data removed]",
            "text/plain": [
              "<Figure size 432x288 with 1 Axes>"
            ]
          },
          "metadata": {
            "tags": []
          }
        }
      ]
    },
    {
      "cell_type": "markdown",
      "metadata": {
        "id": "4Xh3KQ8GZNMn"
      },
      "source": [
        "Create the data and target for training an ANN. The data will be a matrix of n=1500 rows and h*w columns, where n is the number of images, h=77 and w=68 are the height and width of an image in pixels. The target will be a nx1 matrix."
      ]
    },
    {
      "cell_type": "code",
      "metadata": {
        "id": "aBuoQCynGHfy"
      },
      "source": [
        "import numpy as np  # loads a library for working with matrixes \n",
        "m=im1.shape[0]*im1.shape[1]  # m = h*w = (77*68=5236) is the number of pixels in images\n",
        "images_data = np.zeros((n, m)) # creates a nxm-matrix of the images\n",
        "images_target = np.zeros((n,))  # creates a n*1 matrix of targets which are the person labels 1 tp 30\n",
        "# loops over all n=1500 images \n",
        "for i in range(0, n):\n",
        "  filename = fls[i]  # loads a name of the image file\n",
        "  img = image.imread(path + dnam + '/' + filename) # loads the image name\n",
        "  images_data[i,:] = np.ravel(img) # vectorisation of the image \n",
        "  c = int(filename[5:7])  # extracts the class label from the file name\n",
        "  images_target[i] = c  # assigns the target \n",
        "  #if i % 10 == 0:\n",
        "  #  print('> loaded %s %s %s' % (i, filename, c)) # prints the image name"
      ],
      "execution_count": null,
      "outputs": []
    },
    {
      "cell_type": "markdown",
      "metadata": {
        "id": "22YCdWm8JcFb"
      },
      "source": [
        "Save the data and target on Google drive as .npy files."
      ]
    },
    {
      "cell_type": "code",
      "metadata": {
        "id": "1bKAlBRNJdSG"
      },
      "source": [
        "from numpy import asarray # loads a library for saving matrices\n",
        "from numpy import save\n",
        "# save as a .npy file\n",
        "fn = (path + '/' + 'yaleExtB_data.npy') # creates the file name for the image data\n",
        "save(fn, images_data) \n",
        "fn = (path + '/' + 'yaleExtB_target.npy') # creates the file name for the targets\n",
        "save(fn, images_target)\n"
      ],
      "execution_count": null,
      "outputs": []
    },
    {
      "cell_type": "code",
      "metadata": {
        "id": "zO2SvR6w5ZQw",
        "outputId": "3a9accae-e18b-48c1-ed70-89683029934f",
        "colab": {
          "base_uri": "https://localhost:8080/",
          "height": 121
        }
      },
      "source": [
        "# shows the files in the root, including 2 files *.npy \n",
        "!ls \"/content/drive/My Drive/\" \n"
      ],
      "execution_count": null,
      "outputs": [
        {
          "output_type": "stream",
          "text": [
            "'Colab Notebooks'   job_reference\t\t    stockwood\n",
            " dep_reports\t    PLANS_files\t\t\t    Teaching\n",
            " DIY\t\t   'PLANS & New submissions.gdoc'   Tr0\n",
            " ebooks\t\t    Research\t\t\t    Tr0.zip\n",
            " Editing\t    Reviewing\t\t\t    yaleExtB_data.npy\n",
            " J_2018\t\t    RGS\t\t\t\t    yaleExtB_target.npy\n"
          ],
          "name": "stdout"
        }
      ]
    }
  ]
}